{
 "cells": [
  {
   "cell_type": "code",
   "execution_count": 1,
   "metadata": {},
   "outputs": [
    {
     "name": "stderr",
     "output_type": "stream",
     "text": [
      "/home/zaristei/.local/lib/python3.10/site-packages/tqdm/auto.py:21: TqdmWarning: IProgress not found. Please update jupyter and ipywidgets. See https://ipywidgets.readthedocs.io/en/stable/user_install.html\n",
      "  from .autonotebook import tqdm as notebook_tqdm\n"
     ]
    }
   ],
   "source": [
    "from updated_qsp_dataset import UpdatedWebQSPDataset\n",
    "from raw_qsp_dataset import RawWebQSPDataset"
   ]
  },
  {
   "cell_type": "code",
   "execution_count": 2,
   "metadata": {},
   "outputs": [
    {
     "name": "stderr",
     "output_type": "stream",
     "text": [
      "Processing...\n"
     ]
    },
    {
     "name": "stdout",
     "output_type": "stream",
     "text": [
      "inherit model weights from sentence-transformers/all-roberta-large-v1\n",
      "Encoding questions...\n",
      "Encoding graphs...\n"
     ]
    },
    {
     "name": "stderr",
     "output_type": "stream",
     "text": [
      "100%|██████████| 2/2 [00:08<00:00,  4.30s/it]\n",
      "Done!\n",
      "Processing...\n"
     ]
    },
    {
     "name": "stdout",
     "output_type": "stream",
     "text": [
      "inherit model weights from sentence-transformers/all-roberta-large-v1\n",
      "Encoding graph...\n",
      "Encoding questions...\n",
      "Retrieving subgraphs...\n"
     ]
    },
    {
     "name": "stderr",
     "output_type": "stream",
     "text": [
      "100%|██████████| 2/2 [00:00<00:00,  3.56it/s]\n",
      "Done!\n"
     ]
    }
   ],
   "source": [
    "old_dataset = RawWebQSPDataset(root='old_dataset', force_reload=True, limit=2, with_process=True, with_pcst=True)\n",
    "new_dataset = UpdatedWebQSPDataset(root='updated_dataset',force_reload=True, limit=2)"
   ]
  },
  {
   "cell_type": "code",
   "execution_count": 3,
   "metadata": {},
   "outputs": [
    {
     "data": {
      "text/plain": [
       "Data(x=[15, 1024], edge_index=[2, 20], edge_attr=[20, 1024], question='Question: what is the name of justin bieber brother\n",
       "Answer: ', label='jaxon bieber', desc='node_id,node_attr\n",
       "249,m.0129jzth\n",
       "434,jeremy bieber\n",
       "880,m.0gxnp5d\n",
       "892,m.0gxnnwc\n",
       "1178,justin bieber\n",
       "1239,yves bole\n",
       "1563,english language\n",
       "1569,jazmyn bieber\n",
       "1742,pattie mallette\n",
       "1858,m.0gxnp5m\n",
       "1888,this is justin bieber\n",
       "2050,jaxon bieber\n",
       "2205,m.0gxnnwp\n",
       "2436,m.0wfn4pm\n",
       "2620,m.0gxnp5x\n",
       "\n",
       "src,edge_attr,dst\n",
       "1239,people.person.languages,1563\n",
       "1888,film.film.language,1563\n",
       "1239,influence.influence_node.influenced_by,1178\n",
       "1742,people.person.children,1178\n",
       "2050,people.person.parents,434\n",
       "2436,people.sibling_relationship.sibling,1742\n",
       "2050,people.person.sibling_s,2205\n",
       "1178,base.popstra.celebrity.hangout,2620\n",
       "892,people.sibling_relationship.sibling,1569\n",
       "249,people.sibling_relationship.sibling,1239\n",
       "1742,people.person.sibling_s,2436\n",
       "2205,people.sibling_relationship.sibling,2050\n",
       "1239,people.person.sibling_s,249\n",
       "1178,people.person.sibling_s,892\n",
       "1178,base.popstra.celebrity.hangout,880\n",
       "1569,people.person.sibling_s,892\n",
       "892,people.sibling_relationship.sibling,1178\n",
       "1178,people.person.sibling_s,2205\n",
       "1178,base.popstra.celebrity.hangout,1858\n",
       "2205,people.sibling_relationship.sibling,1178\n",
       "', num_nodes=15)"
      ]
     },
     "execution_count": 3,
     "metadata": {},
     "output_type": "execute_result"
    }
   ],
   "source": [
    "new_dataset[0]"
   ]
  },
  {
   "cell_type": "code",
   "execution_count": 4,
   "metadata": {},
   "outputs": [
    {
     "data": {
      "text/plain": [
       "Data(x=[12, 1024], edge_index=[2, 13], edge_attr=[13, 1024], question='Question: what is the name of justin bieber brother\n",
       "Answer: ', label='jaxon bieber', desc='node_id,node_attr\n",
       "15,justin bieber\n",
       "151,pattie mallette\n",
       "286,english language\n",
       "294,jaxon bieber\n",
       "346,yves bole\n",
       "356,jeremy bieber\n",
       "452,jazmyn bieber\n",
       "545,m.0wfn4pm\n",
       "551,m.0gxnnwp\n",
       "933,m.0gxnnwc\n",
       "1032,this is justin bieber\n",
       "1359,m.0129jzth\n",
       "\n",
       "src,edge_attr,dst\n",
       "346,people.person.languages,286\n",
       "1032,film.film.language,286\n",
       "346,influence.influence_node.influenced_by,15\n",
       "151,people.person.children,15\n",
       "294,people.person.parents,356\n",
       "294,people.person.sibling_s,551\n",
       "452,people.person.sibling_s,933\n",
       "545,people.sibling_relationship.sibling,151\n",
       "933,people.sibling_relationship.sibling,452\n",
       "1359,people.sibling_relationship.sibling,346\n",
       "551,people.sibling_relationship.sibling,294\n",
       "933,people.sibling_relationship.sibling,15\n",
       "551,people.sibling_relationship.sibling,15\n",
       "', num_nodes=12)"
      ]
     },
     "execution_count": 4,
     "metadata": {},
     "output_type": "execute_result"
    }
   ],
   "source": [
    "old_dataset[0]"
   ]
  },
  {
   "cell_type": "code",
   "execution_count": null,
   "metadata": {},
   "outputs": [],
   "source": [
    "new_dataset.raw_graphs[0]"
   ]
  },
  {
   "cell_type": "code",
   "execution_count": null,
   "metadata": {},
   "outputs": [],
   "source": [
    "old_dataset.raw_graphs[0]"
   ]
  },
  {
   "cell_type": "code",
   "execution_count": null,
   "metadata": {},
   "outputs": [],
   "source": [
    "import networkx as nx\n",
    "from torch_geometric.data import Data\n",
    "import torch"
   ]
  },
  {
   "cell_type": "code",
   "execution_count": null,
   "metadata": {},
   "outputs": [],
   "source": [
    "def results_are_close_enough(ground_truth: Data, new_method: Data, thresh=.8):\n",
    "    def _sorted_tensors_are_close(tensor1, tensor2):\n",
    "        return torch.all(torch.isclose(tensor1.sort(dim=0)[0], tensor2.sort(dim=0)[0]).float().mean(axis=1) > thresh)\n",
    "    def _graphs_are_same(tensor1, tensor2):\n",
    "        return nx.weisfeiler_lehman_graph_hash(nx.Graph(tensor1.T)) == nx.weisfeiler_lehman_graph_hash(nx.Graph(tensor2.T))\n",
    "    return _sorted_tensors_are_close(ground_truth.x, new_method.x) \\\n",
    "        and _sorted_tensors_are_close(ground_truth.edge_attr, new_method.edge_attr) \\\n",
    "        and _graphs_are_same(ground_truth.edge_index, new_method.edge_index)"
   ]
  },
  {
   "cell_type": "code",
   "execution_count": null,
   "metadata": {},
   "outputs": [],
   "source": [
    "results_are_close_enough(old_dataset.raw_graphs[0], new_dataset.raw_graphs[0])"
   ]
  },
  {
   "cell_type": "code",
   "execution_count": null,
   "metadata": {},
   "outputs": [],
   "source": [
    "old_dataset.questions[0]"
   ]
  },
  {
   "cell_type": "code",
   "execution_count": null,
   "metadata": {},
   "outputs": [],
   "source": [
    "new_dataset.questions[0]"
   ]
  },
  {
   "cell_type": "code",
   "execution_count": null,
   "metadata": {},
   "outputs": [],
   "source": []
  }
 ],
 "metadata": {
  "kernelspec": {
   "display_name": "pyg-local-dev",
   "language": "python",
   "name": "python3"
  },
  "language_info": {
   "codemirror_mode": {
    "name": "ipython",
    "version": 3
   },
   "file_extension": ".py",
   "mimetype": "text/x-python",
   "name": "python",
   "nbconvert_exporter": "python",
   "pygments_lexer": "ipython3",
   "version": "3.10.14"
  }
 },
 "nbformat": 4,
 "nbformat_minor": 2
}
