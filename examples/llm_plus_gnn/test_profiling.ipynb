{
 "cells": [
  {
   "cell_type": "code",
   "execution_count": null,
   "metadata": {},
   "outputs": [],
   "source": [
    "from torch_geometric.datasets import UpdatedWebQSPDataset\n",
    "from raw_qsp_dataset import RawWebQSPDataset\n",
    "from torch_geometric.profile import profileit, timeit\n",
    "from torch_geometric.profile.profile import GPUStats\n",
    "from torch.profiler import  profile\n",
    "from typing import Protocol, Type, List, Tuple, Any\n",
    "from abc import abstractmethod\n",
    "import torch"
   ]
  },
  {
   "cell_type": "code",
   "execution_count": null,
   "metadata": {},
   "outputs": [],
   "source": [
    "class Profilable(Protocol):\n",
    "    model: torch.nn.Module\n",
    "    device: torch.device\n",
    "\n",
    "    @abstractmethod\n",
    "    def _build_graph(self) -> None:\n",
    "        pass\n",
    "\n",
    "    @abstractmethod\n",
    "    def _retrieve_subgraphs(self) -> None:\n",
    "        pass\n",
    "\n",
    "def make_profilable(dataset_obj: Type[Profilable]) -> Type[Profilable]:\n",
    "    dec = profileit(\"cuda\")\n",
    "\n",
    "    class ProfilableObject(dataset_obj):\n",
    "        def __init__(self, *args, **kwargs) -> None:\n",
    "            self.desc = dict()\n",
    "            self.parent_cls = super()\n",
    "            self.parent_cls.__init__(*args, **kwargs)\n",
    "\n",
    "        def _build_graph(self) -> None:\n",
    "            device_tensor = torch.Tensor().to(self.device)\n",
    "            wrap = dec(lambda model, dev_tensor: self.parent_cls._build_graph())\n",
    "            ret, desc = wrap(self.model, device_tensor)\n",
    "            self.desc['_build_graph'] = desc\n",
    "            return ret\n",
    "        \n",
    "        def _retrieve_subgraphs(self) -> None:\n",
    "            device_tensor = torch.Tensor().to(self.device)\n",
    "            wrap = dec(lambda model, dev_tensor: self.parent_cls._retrieve_subgraphs())\n",
    "            ret, desc = wrap(self.model, device_tensor)\n",
    "            self.desc['_retrieve_subgraphs'] = desc\n",
    "            return ret\n",
    "    \n",
    "    return ProfilableObject"
   ]
  },
  {
   "cell_type": "code",
   "execution_count": null,
   "metadata": {},
   "outputs": [],
   "source": [
    "ds = UpdatedWebQSPDataset(root=\"profiled_ds\", force_reload=True)"
   ]
  },
  {
   "cell_type": "code",
   "execution_count": null,
   "metadata": {},
   "outputs": [],
   "source": [
    "ds = UpdatedWebQSPDataset(root=\"profiled_ds_wholegraph\", force_reload=True, whole_graph_retrieval=True)"
   ]
  },
  {
   "cell_type": "code",
   "execution_count": null,
   "metadata": {},
   "outputs": [],
   "source": [
    "profilable_ds: Type[UpdatedWebQSPDataset] = make_profilable(UpdatedWebQSPDataset)"
   ]
  },
  {
   "cell_type": "code",
   "execution_count": null,
   "metadata": {},
   "outputs": [],
   "source": [
    "dataset: UpdatedWebQSPDataset = profilable_ds(root=\"profiled_ds\", force_reload=True, limit=100)"
   ]
  },
  {
   "cell_type": "code",
   "execution_count": null,
   "metadata": {},
   "outputs": [],
   "source": [
    "dataset.desc['_retrieve_subgraphs']"
   ]
  },
  {
   "cell_type": "code",
   "execution_count": null,
   "metadata": {},
   "outputs": [],
   "source": [
    "with profile(profile_memory=True, with_stack=True, record_shapes=True) as prof:\n",
    "    ds = UpdatedWebQSPDataset(root=\"profiled_ds\", force_reload=True, limit=10)\n",
    "    del ds"
   ]
  },
  {
   "cell_type": "code",
   "execution_count": null,
   "metadata": {},
   "outputs": [],
   "source": [
    "prof.export_chrome_trace('timeline.json')"
   ]
  },
  {
   "cell_type": "code",
   "execution_count": null,
   "metadata": {},
   "outputs": [],
   "source": [
    "prof.export_memory_timeline('timeline_mem.html')"
   ]
  },
  {
   "cell_type": "code",
   "execution_count": null,
   "metadata": {},
   "outputs": [],
   "source": [
    "avgs = prof.key_averages()"
   ]
  },
  {
   "cell_type": "code",
   "execution_count": null,
   "metadata": {},
   "outputs": [],
   "source": [
    "print(avgs.table(sort_by='cpu_time'))"
   ]
  },
  {
   "cell_type": "code",
   "execution_count": null,
   "metadata": {},
   "outputs": [],
   "source": [
    "from torchmetrics.functional import pairwise_cosine_similarity\n",
    "import torch"
   ]
  },
  {
   "cell_type": "code",
   "execution_count": null,
   "metadata": {},
   "outputs": [],
   "source": [
    "device = torch.device('cuda' if torch.cuda.is_available() else 'cpu')"
   ]
  },
  {
   "cell_type": "code",
   "execution_count": null,
   "metadata": {},
   "outputs": [],
   "source": [
    "i1 = torch.rand((4700,1024)).to(device)\n",
    "i2 = torch.rand((1000000,1024)).to(device)\n",
    "i1 = pairwise_cosine_similarity(i1, i2)"
   ]
  },
  {
   "cell_type": "code",
   "execution_count": 1,
   "metadata": {},
   "outputs": [
    {
     "name": "stderr",
     "output_type": "stream",
     "text": [
      "/home/zaristei/.local/lib/python3.10/site-packages/tqdm/auto.py:21: TqdmWarning: IProgress not found. Please update jupyter and ipywidgets. See https://ipywidgets.readthedocs.io/en/stable/user_install.html\n",
      "  from .autonotebook import tqdm as notebook_tqdm\n"
     ]
    }
   ],
   "source": [
    "from torch_geometric.datasets import UpdatedWebQSPDataset\n",
    "from torch_geometric.data import LargeGraphIndexer\n",
    "from itertools import chain"
   ]
  },
  {
   "cell_type": "code",
   "execution_count": 2,
   "metadata": {},
   "outputs": [
    {
     "name": "stderr",
     "output_type": "stream",
     "text": [
      "Processing...\n"
     ]
    },
    {
     "name": "stdout",
     "output_type": "stream",
     "text": [
      "Loading graph...\n",
      "Encoding questions...\n",
      "Retrieving subgraphs...\n"
     ]
    },
    {
     "name": "stderr",
     "output_type": "stream",
     "text": [
      "10it [00:00, 59.05it/s]00:00<?, ?it/s]\n",
      "100%|██████████| 10/10 [00:01<00:00,  5.69it/s]"
     ]
    },
    {
     "name": "stdout",
     "output_type": "stream",
     "text": [
      "Saving subgraphs...\n"
     ]
    },
    {
     "name": "stderr",
     "output_type": "stream",
     "text": [
      "\n",
      "Done!\n"
     ]
    }
   ],
   "source": [
    "ds = UpdatedWebQSPDataset('small_ds', force_reload=True, limit=10)"
   ]
  },
  {
   "cell_type": "code",
   "execution_count": 3,
   "metadata": {},
   "outputs": [],
   "source": [
    "graph = ds.indexer.to_data(node_feature_name='x', edge_feature_name='edge_attr')"
   ]
  },
  {
   "cell_type": "code",
   "execution_count": 4,
   "metadata": {},
   "outputs": [],
   "source": [
    "graph.edge_index = graph.edge_index.contiguous()"
   ]
  },
  {
   "cell_type": "code",
   "execution_count": 22,
   "metadata": {},
   "outputs": [],
   "source": [
    "from torch_geometric.loader import LinkNeighborLoader, LinkLoader\n",
    "from torch_geometric.sampler import NeighborSampler, BaseSampler"
   ]
  },
  {
   "cell_type": "code",
   "execution_count": null,
   "metadata": {},
   "outputs": [],
   "source": [
    "from torch_geometric.sampler.base import EdgeSamplerInput, HeteroSamplerOutput, NegativeSampling, NodeSamplerInput, SamplerOutput\n",
    "\n",
    "\n",
    "class IdentitySampler(BaseSampler):\n",
    "    def sample_from_nodes(self, index: NodeSamplerInput, **kwargs) -> HeteroSamplerOutput | SamplerOutput:\n",
    "        if index.input_type is not None: # Heterogeneous\n",
    "            out = HeteroSamplerOutput(node={index.input_type: index.node}, row=dict(), col=dict(), edge=dict())\n",
    "        else:\n",
    "            out = SamplerOutput(node=index.node, row=torch.Tensor(), col=torch.Tensor())\n",
    "        return out\n",
    "    \n",
    "    def sample_from_edges(self, index: EdgeSamplerInput, neg_sampling: NegativeSampling | None = None) -> HeteroSamplerOutput | SamplerOutput:\n",
    "        EdgeSamplerInput()\n",
    "        if index.input_type is not None: # Heterogeneous\n",
    "            out = HeteroSamplerOutput(node=index.)"
   ]
  },
  {
   "cell_type": "code",
   "execution_count": 141,
   "metadata": {},
   "outputs": [],
   "source": [
    "link_sampler = NeighborSampler(data=graph, num_neighbors=[1], replace=True)"
   ]
  },
  {
   "cell_type": "code",
   "execution_count": 142,
   "metadata": {},
   "outputs": [],
   "source": [
    "load = LinkLoader(graph, link_sampler=link_sampler)"
   ]
  },
  {
   "cell_type": "code",
   "execution_count": 159,
   "metadata": {},
   "outputs": [
    {
     "data": {
      "text/plain": [
       "11466"
      ]
     },
     "execution_count": 159,
     "metadata": {},
     "output_type": "execute_result"
    }
   ],
   "source": [
    "link_sampler.num_nodes"
   ]
  },
  {
   "cell_type": "code",
   "execution_count": 19,
   "metadata": {},
   "outputs": [],
   "source": [
    "load2 = LinkNeighborLoader(graph, num_neighbors=[2])"
   ]
  },
  {
   "cell_type": "code",
   "execution_count": 156,
   "metadata": {},
   "outputs": [],
   "source": [
    "result = load([1])"
   ]
  },
  {
   "cell_type": "code",
   "execution_count": 154,
   "metadata": {},
   "outputs": [
    {
     "data": {
      "text/plain": [
       "tensor([17505, 24971])"
      ]
     },
     "execution_count": 154,
     "metadata": {},
     "output_type": "execute_result"
    }
   ],
   "source": [
    "result.e_id"
   ]
  },
  {
   "cell_type": "code",
   "execution_count": 107,
   "metadata": {},
   "outputs": [
    {
     "data": {
      "text/plain": [
       "tensor([[10097,  4044,  5397,  ...,  7188,  8251,  3597],\n",
       "        [10097,   673,  5827,  ...,  7594,   673, 10951]])"
      ]
     },
     "execution_count": 107,
     "metadata": {},
     "output_type": "execute_result"
    }
   ],
   "source": [
    "graph.edge_index"
   ]
  },
  {
   "cell_type": "code",
   "execution_count": 153,
   "metadata": {},
   "outputs": [
    {
     "data": {
      "text/plain": [
       "'m.09g3c50'"
      ]
     },
     "execution_count": 153,
     "metadata": {},
     "output_type": "execute_result"
    }
   ],
   "source": [
    "ds.indexer.node_attr['pid'][4759]"
   ]
  },
  {
   "cell_type": "code",
   "execution_count": 155,
   "metadata": {},
   "outputs": [
    {
     "data": {
      "text/plain": [
       "('washington redskins at oakland raiders, 2009-12-13',\n",
       " 'american_football.football_game.away_team',\n",
       " 'washington redskins')"
      ]
     },
     "execution_count": 155,
     "metadata": {},
     "output_type": "execute_result"
    }
   ],
   "source": [
    "ds.indexer.edge_attr[\"e_pid\"][1]"
   ]
  },
  {
   "cell_type": "code",
   "execution_count": null,
   "metadata": {},
   "outputs": [],
   "source": []
  }
 ],
 "metadata": {
  "kernelspec": {
   "display_name": "pyg-local-dev",
   "language": "python",
   "name": "python3"
  },
  "language_info": {
   "codemirror_mode": {
    "name": "ipython",
    "version": 3
   },
   "file_extension": ".py",
   "mimetype": "text/x-python",
   "name": "python",
   "nbconvert_exporter": "python",
   "pygments_lexer": "ipython3",
   "version": "3.10.14"
  }
 },
 "nbformat": 4,
 "nbformat_minor": 2
}
